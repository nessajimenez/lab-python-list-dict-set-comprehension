{
 "cells": [
  {
   "cell_type": "markdown",
   "id": "25d7736c-ba17-4aff-b6bb-66eba20fbf4e",
   "metadata": {},
   "source": [
    "# Lab | List, Dict and Set Comprehension"
   ]
  },
  {
   "cell_type": "markdown",
   "id": "7dd3cbde-675a-4b81-92c3-f728846dbe06",
   "metadata": {},
   "source": [
    "## Exercise: Managing Customer Orders Optimized with Comprehension"
   ]
  },
  {
   "cell_type": "markdown",
   "id": "5d500160-2fb7-4777-b5e4-09d45ebaf328",
   "metadata": {},
   "source": [
    "In the previous exercise, you developed a program to manage customer orders and inventory. Now, let's take it a step further and incorporate comprehension into your code.\n",
    "\n",
    "Follow the steps below to complete the exercise:\n",
    "\n",
    "1. Review your code from the previous exercise and identify areas where you can apply comprehension to simplify and streamline your code. \n",
    "\n",
    "    - *Hint: Apply it to initialize inventory, updating the inventory and printing the updated inventory.*\n",
    "    \n",
    "    - For example, in initializing the inventory, we could have:\n",
    "    \n",
    "        ```python\n",
    "        def initialize_inventory(products):\n",
    "            inventory = {product: int(input(f\"Enter the quantity of {product}s available: \")) for product in products}\n",
    "            return inventory\n",
    "\n",
    "        ```\n",
    "<br>\n",
    "    \n",
    "    \n",
    "2. Modify the function get_customer_orders so it prompts the user to enter the number of customer orders and gathers the product names using a loop and user input. Use comprehension.\n",
    "\n",
    "3. Add a new function to calculate the total price of the customer order. For each product in customer_orders, prompt the user to enter the price of that product. Use comprehension to calculate the total price. Note: assume that the user can only have 1 unit of each product.\n",
    "\n",
    "4. Modify the update_inventory function to remove the product from the inventory if its quantity becomes zero after fulfilling the customer orders. Use comprehension to filter out the products with a quantity of zero from the inventory.\n",
    "\n",
    "5. Print the total price of the customer order.\n",
    "\n",
    "Your code should produce output similar to the following:\n",
    "\n",
    "```python\n",
    "Enter the quantity of t-shirts available:  5\n",
    "Enter the quantity of mugs available:  4\n",
    "Enter the quantity of hats available:  3\n",
    "Enter the quantity of books available:  2\n",
    "Enter the quantity of keychains available:  1\n",
    "Enter the number of customer orders:  2\n",
    "Enter the name of a product that a customer wants to order:  hat\n",
    "Enter the name of a product that a customer wants to order:  keychain\n",
    "\n",
    "Order Statistics:\n",
    "Total Products Ordered: 2\n",
    "Percentage of Unique Products Ordered: 40.0\n",
    "\n",
    "Updated Inventory:\n",
    "t-shirt: 5\n",
    "mug: 4\n",
    "hat: 2\n",
    "book: 2\n",
    "Enter the price of keychain:  5\n",
    "Enter the price of hat:  10\n",
    "Total Price: 15.0\n",
    "\n",
    "```\n"
   ]
  },
  {
   "cell_type": "code",
   "execution_count": 1,
   "id": "9b99204b",
   "metadata": {},
   "outputs": [
    {
     "name": "stdout",
     "output_type": "stream",
     "text": [
      "How many t-shirt do we have?: 100\n",
      "How many mug do we have?: 300\n",
      "How many hat do we have?: 400\n",
      "How many book do we have?: 222\n",
      "How many keychain do we have?: 434\n",
      "{'t-shirt': '100', 'mug': '300', 'hat': '400', 'book': '222', 'keychain': '434'}\n"
     ]
    }
   ],
   "source": [
    "def initialize_inventory(products):\n",
    "    inventory = {product: input(f\"How many {product} do we have?: \") for product in products}\n",
    "    return inventory\n",
    "\n",
    "products = [\"t-shirt\", \"mug\", \"hat\", \"book\", \"keychain\"]\n",
    "inventory = initialize_inventory(products)\n",
    "print(inventory)"
   ]
  },
  {
   "cell_type": "code",
   "execution_count": 2,
   "id": "ad963dc3",
   "metadata": {},
   "outputs": [],
   "source": [
    "def get_customer_orders():\n",
    "    customer_orders=set()\n",
    "    order = input(\"Name a product the customer would like to order: \")\n",
    "    customer_orders.add(order)\n",
    "    y_n = input(\"would you like to add another product? (yes/no):\")\n",
    "\n",
    "    while y_n.lower() == 'yes':\n",
    "        order = input(\"Name a product the customer would like to order: \")\n",
    "        customer_orders.add(order)\n",
    "        y_n= input(\"would you like to add another product? N for no and Y for yes:\")\n",
    "    else:\n",
    "        if y_n.lower() == 'no':\n",
    "            print(\"Thanks for your order!\")\n",
    "        if y_n.lower() != 'no':\n",
    "            print(\"I don't know what that means!\")        \n",
    "    return customer_orders\n",
    "\n",
    "\n"
   ]
  },
  {
   "cell_type": "code",
   "execution_count": 22,
   "id": "b93ac308",
   "metadata": {},
   "outputs": [
    {
     "ename": "NameError",
     "evalue": "name 'product_name' is not defined",
     "output_type": "error",
     "traceback": [
      "\u001b[1;31m---------------------------------------------------------------------------\u001b[0m",
      "\u001b[1;31mNameError\u001b[0m                                 Traceback (most recent call last)",
      "Cell \u001b[1;32mIn[22], line 18\u001b[0m\n\u001b[0;32m     15\u001b[0m             \u001b[38;5;28mprint\u001b[39m(\u001b[38;5;124m\"\u001b[39m\u001b[38;5;124mI don\u001b[39m\u001b[38;5;124m'\u001b[39m\u001b[38;5;124mt know what that means!\u001b[39m\u001b[38;5;124m\"\u001b[39m) \n\u001b[0;32m     16\u001b[0m     \u001b[38;5;28;01mreturn\u001b[39;00m  product_name, amt_of_order\n\u001b[1;32m---> 18\u001b[0m customer_orders\u001b[38;5;241m=\u001b[39m{product_name: amt_of_order \u001b[38;5;28;01mfor\u001b[39;00m product \u001b[38;5;129;01min\u001b[39;00m product_name}\n",
      "\u001b[1;31mNameError\u001b[0m: name 'product_name' is not defined"
     ]
    }
   ],
   "source": [
    "def get_customer_orders():\n",
    "    product_name= input(\"Which product would you like to buy? \")\n",
    "    amt_of_order= int(input(f\"How many {product_name} do you want?\"))\n",
    "    y_n= input(\"would you like to add another product? (yes/no): \")\n",
    "    customer_orders={product_name: amt_of_order for product in product_name}\n",
    "    while y_n.lower() == 'yes':\n",
    "        product_name= input(\"Which product would you like to buy? \")\n",
    "        amt_of_order= input(f\"How many {product_name} do you want?\")\n",
    "        customer_orders[product_name]=amt_of_order\n",
    "        y_n= input(\"would you like to add another product? (yes/no): \")\n",
    "    else:\n",
    "        if y_n.lower() == 'no':\n",
    "            print(\"Thanks for your order!\")\n",
    "        if y_n.lower() != 'no':\n",
    "            print(\"I don't know what that means!\") \n",
    "    return  product_name, amt_of_order\n"
   ]
  },
  {
   "cell_type": "code",
   "execution_count": 21,
   "id": "31ef229e",
   "metadata": {},
   "outputs": [
    {
     "data": {
      "text/plain": [
       "({'4': 3}, '4', 3)"
      ]
     },
     "execution_count": 21,
     "metadata": {},
     "output_type": "execute_result"
    }
   ],
   "source": [
    "customer_orders"
   ]
  },
  {
   "cell_type": "code",
   "execution_count": 18,
   "id": "748bed5a",
   "metadata": {},
   "outputs": [
    {
     "name": "stdout",
     "output_type": "stream",
     "text": [
      "Which product would you like to buy? 4\n",
      "How many 4 do you want?3\n",
      "would you like to add another product? (yes/no): no\n",
      "Thanks for your order!\n"
     ]
    }
   ],
   "source": [
    "customer_orders = get_customer_orders()\n",
    "\n",
    "def total_price(product_name,amt_of_order):\n",
    "    item_total=()\n",
    "    price=float(input(\"How much does it cost? \"))\n",
    "    for amount in customer_orders.values():\n",
    "        item_price= item_price=price*float(amt_of_order)\n",
    "        order_price= sum(item_price)\n",
    "    return order_price"
   ]
  },
  {
   "cell_type": "code",
   "execution_count": 20,
   "id": "64f0e0e8",
   "metadata": {},
   "outputs": [
    {
     "data": {
      "text/plain": [
       "({'4': 3}, '4', 3)"
      ]
     },
     "execution_count": 20,
     "metadata": {},
     "output_type": "execute_result"
    }
   ],
   "source": [
    "customer_orders"
   ]
  },
  {
   "cell_type": "code",
   "execution_count": 17,
   "id": "f5ae774a",
   "metadata": {},
   "outputs": [
    {
     "name": "stdout",
     "output_type": "stream",
     "text": [
      "How much does it cost? 4\n"
     ]
    },
    {
     "ename": "AttributeError",
     "evalue": "'tuple' object has no attribute 'values'",
     "output_type": "error",
     "traceback": [
      "\u001b[1;31m---------------------------------------------------------------------------\u001b[0m",
      "\u001b[1;31mAttributeError\u001b[0m                            Traceback (most recent call last)",
      "Cell \u001b[1;32mIn[17], line 1\u001b[0m\n\u001b[1;32m----> 1\u001b[0m total_price(customer_orders)\n",
      "Cell \u001b[1;32mIn[15], line 7\u001b[0m, in \u001b[0;36mtotal_price\u001b[1;34m(product_name)\u001b[0m\n\u001b[0;32m      5\u001b[0m item_total\u001b[38;5;241m=\u001b[39m()\n\u001b[0;32m      6\u001b[0m price\u001b[38;5;241m=\u001b[39m\u001b[38;5;28mfloat\u001b[39m(\u001b[38;5;28minput\u001b[39m(\u001b[38;5;124m\"\u001b[39m\u001b[38;5;124mHow much does it cost? \u001b[39m\u001b[38;5;124m\"\u001b[39m))\n\u001b[1;32m----> 7\u001b[0m \u001b[38;5;28;01mfor\u001b[39;00m amount \u001b[38;5;129;01min\u001b[39;00m customer_orders\u001b[38;5;241m.\u001b[39mvalues():\n\u001b[0;32m      8\u001b[0m     item_price\u001b[38;5;241m=\u001b[39m item_price\u001b[38;5;241m=\u001b[39mprice\u001b[38;5;241m*\u001b[39m\u001b[38;5;28mfloat\u001b[39m(customer_order\u001b[38;5;241m.\u001b[39mvalues())\n\u001b[0;32m      9\u001b[0m     order_price\u001b[38;5;241m=\u001b[39m \u001b[38;5;28msum\u001b[39m(item_price)\n",
      "\u001b[1;31mAttributeError\u001b[0m: 'tuple' object has no attribute 'values'"
     ]
    }
   ],
   "source": [
    "total_price(customer_orders)"
   ]
  },
  {
   "cell_type": "code",
   "execution_count": null,
   "id": "817142ee",
   "metadata": {},
   "outputs": [],
   "source": [
    "def update_inventory(customer_orders, inventory):\n",
    "    for product in customer_orders:\n",
    "        if product in inventory:\n",
    "            if inventory[product] > 0:\n",
    "                inventory[product] -= 1\n",
    "            else:\n",
    "                print(product,\"is not available\")\n",
    "        else:\n",
    "            print(\"We don't have that\")\n",
    "    return inventory"
   ]
  },
  {
   "cell_type": "code",
   "execution_count": null,
   "id": "a1ac21d0",
   "metadata": {},
   "outputs": [],
   "source": [
    "update_inventory(customer_orders, inventory)"
   ]
  },
  {
   "cell_type": "code",
   "execution_count": null,
   "id": "85f42213",
   "metadata": {},
   "outputs": [],
   "source": [
    "def calculate_order_statistics(customer_orders, products):\n",
    "    order_stats=len(customer_orders.intersection(products))/len(products)*100\n",
    "    return order_stats"
   ]
  },
  {
   "cell_type": "code",
   "execution_count": null,
   "id": "e98b3914",
   "metadata": {},
   "outputs": [],
   "source": [
    "calculate_order_statistics(customer_orders, products)"
   ]
  },
  {
   "cell_type": "code",
   "execution_count": null,
   "id": "7f0725f8",
   "metadata": {},
   "outputs": [],
   "source": [
    "def print_updated_inventory(inventory):\n",
    "    print(inventory)\n",
    "    \n",
    "print_updated_inventory(inventory)"
   ]
  },
  {
   "cell_type": "code",
   "execution_count": null,
   "id": "3dc3c7c6",
   "metadata": {},
   "outputs": [],
   "source": []
  }
 ],
 "metadata": {
  "kernelspec": {
   "display_name": "Python 3 (ipykernel)",
   "language": "python",
   "name": "python3"
  },
  "language_info": {
   "codemirror_mode": {
    "name": "ipython",
    "version": 3
   },
   "file_extension": ".py",
   "mimetype": "text/x-python",
   "name": "python",
   "nbconvert_exporter": "python",
   "pygments_lexer": "ipython3",
   "version": "3.11.7"
  }
 },
 "nbformat": 4,
 "nbformat_minor": 5
}
