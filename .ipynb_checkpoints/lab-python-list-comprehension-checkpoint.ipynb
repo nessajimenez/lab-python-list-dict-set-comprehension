{
 "cells": [
  {
   "cell_type": "markdown",
   "id": "25d7736c-ba17-4aff-b6bb-66eba20fbf4e",
   "metadata": {},
   "source": [
    "# Lab | List, Dict and Set Comprehension"
   ]
  },
  {
   "cell_type": "markdown",
   "id": "7dd3cbde-675a-4b81-92c3-f728846dbe06",
   "metadata": {},
   "source": [
    "## Exercise: Managing Customer Orders Optimized with Comprehension"
   ]
  },
  {
   "cell_type": "markdown",
   "id": "5d500160-2fb7-4777-b5e4-09d45ebaf328",
   "metadata": {},
   "source": [
    "In the previous exercise, you developed a program to manage customer orders and inventory. Now, let's take it a step further and incorporate comprehension into your code.\n",
    "\n",
    "Follow the steps below to complete the exercise:\n",
    "\n",
    "1. Review your code from the previous exercise and identify areas where you can apply comprehension to simplify and streamline your code. \n",
    "\n",
    "    - *Hint: Apply it to initialize inventory, updating the inventory and printing the updated inventory.*\n",
    "    \n",
    "    - For example, in initializing the inventory, we could have:\n",
    "    \n",
    "        ```python\n",
    "        def initialize_inventory(products):\n",
    "            inventory = {product: int(input(f\"Enter the quantity of {product}s available: \")) for product in products}\n",
    "            return inventory\n",
    "\n",
    "        ```\n",
    "<br>\n",
    "    \n",
    "    \n",
    "2. Modify the function get_customer_orders so it prompts the user to enter the number of customer orders and gathers the product names using a loop and user input. Use comprehension.\n",
    "\n",
    "3. Add a new function to calculate the total price of the customer order. For each product in customer_orders, prompt the user to enter the price of that product. Use comprehension to calculate the total price. Note: assume that the user can only have 1 unit of each product.\n",
    "\n",
    "4. Modify the update_inventory function to remove the product from the inventory if its quantity becomes zero after fulfilling the customer orders. Use comprehension to filter out the products with a quantity of zero from the inventory.\n",
    "\n",
    "5. Print the total price of the customer order.\n",
    "\n",
    "Your code should produce output similar to the following:\n",
    "\n",
    "```python\n",
    "Enter the quantity of t-shirts available:  5\n",
    "Enter the quantity of mugs available:  4\n",
    "Enter the quantity of hats available:  3\n",
    "Enter the quantity of books available:  2\n",
    "Enter the quantity of keychains available:  1\n",
    "Enter the number of customer orders:  2\n",
    "Enter the name of a product that a customer wants to order:  hat\n",
    "Enter the name of a product that a customer wants to order:  keychain\n",
    "\n",
    "Order Statistics:\n",
    "Total Products Ordered: 2\n",
    "Percentage of Unique Products Ordered: 40.0\n",
    "\n",
    "Updated Inventory:\n",
    "t-shirt: 5\n",
    "mug: 4\n",
    "hat: 2\n",
    "book: 2\n",
    "Enter the price of keychain:  5\n",
    "Enter the price of hat:  10\n",
    "Total Price: 15.0\n",
    "\n",
    "```\n"
   ]
  },
  {
   "cell_type": "code",
   "execution_count": 178,
   "id": "87aa600c",
   "metadata": {},
   "outputs": [
    {
     "name": "stdout",
     "output_type": "stream",
     "text": [
      "How many t-shirt do we have?: 2\n",
      "How many mug do we have?: 3\n",
      "How many hat do we have?: 4\n",
      "How many book do we have?: 5\n",
      "How many keychain do we have?: 6\n",
      "initial inventory: {'t-shirt': 2, 'mug': 3, 'hat': 4, 'book': 5, 'keychain': 6}\n"
     ]
    }
   ],
   "source": [
    "def initialize_inventory(x):\n",
    "    inventory = {product: int(input(f\"How many {product} do we have?: \")) for product in products}\n",
    "    return inventory\n",
    "\n",
    "products = [\"t-shirt\", \"mug\", \"hat\", \"book\", \"keychain\"]\n",
    "inventory = initialize_inventory(products)\n",
    "print(\"initial inventory:\",inventory)"
   ]
  },
  {
   "cell_type": "code",
   "execution_count": 41,
   "id": "63a1266d",
   "metadata": {},
   "outputs": [],
   "source": [
    "def get_customer_orders():\n",
    "    num_orders=int(input(\"How many orders?\"))\n",
    "    get_the_order={input(\"What product does the customer want? \"): input(\"How many would they like? \") for x in range(int(num_orders))}\n",
    "    return get_the_order"
   ]
  },
  {
   "cell_type": "code",
   "execution_count": 42,
   "id": "bfd942ac",
   "metadata": {},
   "outputs": [
    {
     "name": "stdout",
     "output_type": "stream",
     "text": [
      "How many orders?2\n",
      "What product does the customer want? t-shirt\n",
      "How many would they like? 3\n",
      "What product does the customer want? hat\n",
      "How many would they like? 1\n"
     ]
    }
   ],
   "source": [
    "cust_orders = get_customer_orders()"
   ]
  },
  {
   "cell_type": "code",
   "execution_count": 43,
   "id": "3a223d69",
   "metadata": {},
   "outputs": [
    {
     "data": {
      "text/plain": [
       "{'t-shirt': '3', 'hat': '1'}"
      ]
     },
     "execution_count": 43,
     "metadata": {},
     "output_type": "execute_result"
    }
   ],
   "source": [
    "cust_orders"
   ]
  },
  {
   "cell_type": "code",
   "execution_count": null,
   "id": "468b5d32",
   "metadata": {},
   "outputs": [],
   "source": [
    "\"\"\"\"\"Add a new function to calculate the total price of the customer order. \n",
    "For each product in customer_orders, prompt the user to enter the price of that product. \n",
    "Use comprehension to calculate the total price. Note: assume that the user can only have 1 unit of each product.\"\"\"\"\"\""
   ]
  },
  {
   "cell_type": "code",
   "execution_count": 69,
   "id": "e04a630f",
   "metadata": {},
   "outputs": [],
   "source": [
    "def total_order_price(x):\n",
    "    prices=(int(input(f\"how much does this item cost? \")) for x in cust_orders)\n",
    "    total_cost=sum(prices)\n",
    "    return total_cost"
   ]
  },
  {
   "cell_type": "code",
   "execution_count": 65,
   "id": "6a9c8a8b",
   "metadata": {},
   "outputs": [
    {
     "name": "stdout",
     "output_type": "stream",
     "text": [
      "how much does this item cost? 3\n",
      "how much does this item cost? 4\n"
     ]
    },
    {
     "data": {
      "text/plain": [
       "[7]"
      ]
     },
     "execution_count": 65,
     "metadata": {},
     "output_type": "execute_result"
    }
   ],
   "source": [
    "total_order_price(cust_orders)"
   ]
  },
  {
   "cell_type": "code",
   "execution_count": 72,
   "id": "2d972edc",
   "metadata": {},
   "outputs": [
    {
     "name": "stdout",
     "output_type": "stream",
     "text": [
      "how much does this item cost? 2\n",
      "how much does this item cost? 3\n",
      "The total order costs $5\n"
     ]
    }
   ],
   "source": [
    "print(\"The total order costs $\" + str(total_order_price(cust_orders)))"
   ]
  },
  {
   "cell_type": "code",
   "execution_count": 73,
   "id": "c3f98944",
   "metadata": {},
   "outputs": [
    {
     "data": {
      "text/plain": [
       "{'t-shirt': 4, 'mug': 56, 'hat': 234, 'book': 546, 'keychain': 34}"
      ]
     },
     "execution_count": 73,
     "metadata": {},
     "output_type": "execute_result"
    }
   ],
   "source": [
    "inventory"
   ]
  },
  {
   "cell_type": "code",
   "execution_count": 210,
   "id": "618240a7",
   "metadata": {},
   "outputs": [],
   "source": [
    "def update_inventory(cust_orders, inventory):\n",
    "    \n",
    "    for product in cust_orders:\n",
    "        if product in inventory:\n",
    "            if inventory[product] > 0:\n",
    "                inventory[product] -= 1   \n",
    "            if inventory[product]== 0:\n",
    "                    x = {product: inventory.pop(product) for product in inventory if inventory[product] == 0}\n",
    "            else:\n",
    "                continue\n",
    "    return inventory\n",
    "                       \n",
    "    "
   ]
  },
  {
   "cell_type": "code",
   "execution_count": 208,
   "id": "1b05b22f",
   "metadata": {},
   "outputs": [
    {
     "data": {
      "text/plain": [
       "{'mug': 3, 'book': 5, 'keychain': 6}"
      ]
     },
     "execution_count": 208,
     "metadata": {},
     "output_type": "execute_result"
    }
   ],
   "source": [
    "update_inventory(cust_orders, inventory)"
   ]
  },
  {
   "cell_type": "code",
   "execution_count": null,
   "id": "b43477d7",
   "metadata": {},
   "outputs": [],
   "source": [
    "def calculate_order_statistics(customer_orders, products):\n",
    "    order_stats=len(customer_orders.intersection(products))/len(products)*100\n",
    "    return order_stats"
   ]
  },
  {
   "cell_type": "code",
   "execution_count": null,
   "id": "1c6ba759",
   "metadata": {},
   "outputs": [],
   "source": [
    "calculate_order_statistics(customer_orders, products)"
   ]
  },
  {
   "cell_type": "code",
   "execution_count": 209,
   "id": "5c16423f",
   "metadata": {},
   "outputs": [
    {
     "name": "stdout",
     "output_type": "stream",
     "text": [
      "{'mug': 3, 'book': 5, 'keychain': 6}\n"
     ]
    }
   ],
   "source": [
    "def print_updated_inventory(inventory):\n",
    "    print(inventory)\n",
    "    \n",
    "print_updated_inventory(inventory)"
   ]
  },
  {
   "cell_type": "code",
   "execution_count": null,
   "id": "1f1c48d7",
   "metadata": {},
   "outputs": [],
   "source": []
  }
 ],
 "metadata": {
  "kernelspec": {
   "display_name": "Python 3 (ipykernel)",
   "language": "python",
   "name": "python3"
  },
  "language_info": {
   "codemirror_mode": {
    "name": "ipython",
    "version": 3
   },
   "file_extension": ".py",
   "mimetype": "text/x-python",
   "name": "python",
   "nbconvert_exporter": "python",
   "pygments_lexer": "ipython3",
   "version": "3.11.7"
  }
 },
 "nbformat": 4,
 "nbformat_minor": 5
}
